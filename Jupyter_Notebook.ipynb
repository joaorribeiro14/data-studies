{
  "metadata": {
    "kernelspec": {
      "name": "python",
      "display_name": "Python (Pyodide)",
      "language": "python"
    },
    "language_info": {
      "codemirror_mode": {
        "name": "python",
        "version": 3
      },
      "file_extension": ".py",
      "mimetype": "text/x-python",
      "name": "python",
      "nbconvert_exporter": "python",
      "pygments_lexer": "ipython3",
      "version": "3.8"
    }
  },
  "nbformat_minor": 4,
  "nbformat": 4,
  "cells": [
    {
      "cell_type": "markdown",
      "source": "<center>\n    <img src=\"https://cf-courses-data.s3.us.cloud-object-storage.appdomain.cloud/IBMDeveloperSkillsNetwork-DS0105EN-SkillsNetwork/labs/Module2/images/SN_web_lightmode.png\" width=\"300\" alt=\"cognitiveclass.ai logo\">\n</center>\n",
      "metadata": {}
    },
    {
      "cell_type": "markdown",
      "source": "#### Add your code below following the instructions given in the course\n",
      "metadata": {}
    },
    {
      "cell_type": "markdown",
      "source": "# My Jupyter Notebook on IBM Watson Studio",
      "metadata": {}
    },
    {
      "cell_type": "markdown",
      "source": "__João Marcos Ranuzzi Ribeiro__\n\nData Analyst",
      "metadata": {}
    },
    {
      "cell_type": "markdown",
      "source": "_Life is based on decisions, and as a Data Professional, I have a strong passion for capturing information and resources to make those decisions as accurately as possible. With that said, I believe that assimilating Data, developing Dashboards, Data Models and Reports are ways to achieve our goals_",
      "metadata": {}
    },
    {
      "cell_type": "markdown",
      "source": "### The following code will need you to input the number of the month you were born and your age. It will calculate your date of birth",
      "metadata": {}
    },
    {
      "cell_type": "code",
      "source": "m = int(input(\"Digite o número do mês do seu nascimento: \"))\na = int(input(\"Digite a sua idade: \"))\n\nresultado = ((m*2+5)*50)+a-250\nano = resultado % 10000 # Pega os últimos 4 dígitos do resultado (ano atual)\nmes = resultado // 10000 # Pega os primeiros dígitos do resultado (mês de nascimento)\n\nprint(\"Você nasceu em\", mes, \"e tem\", a, \"anos.\")\nprint(\"Ano atual:\", ano)\n",
      "metadata": {
        "trusted": true
      },
      "execution_count": null,
      "outputs": []
    },
    {
      "cell_type": "markdown",
      "source": "___My Favorite Sports___\nHere are some of my favorite sports:\n\n- Soccer\n- Football\n- Volleyball\n\nHere are my favorite videos of each sport:\n\n1. [Soccer](https://www.youtube.com/watch?v=WSBSfzYpG4o)\n1. [Football](https://www.youtube.com/shorts/Ev7YgUGSdk4)\n1. [Volleyball](https://www.youtube.com/watch?v=zuGINoINwio)\n",
      "metadata": {}
    }
  ]
}